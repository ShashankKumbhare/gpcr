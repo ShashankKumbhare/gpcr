{
 "cells": [
  {
   "cell_type": "code",
   "execution_count": 1,
   "metadata": {},
   "outputs": [
    {
     "ename": "ModuleNotFoundError",
     "evalue": "No module named 'MMTK'",
     "output_type": "error",
     "traceback": [
      "\u001b[1;31m---------------------------------------------------------------------------\u001b[0m",
      "\u001b[1;31mModuleNotFoundError\u001b[0m                       Traceback (most recent call last)",
      "\u001b[1;32m<ipython-input-1-a0985c806c3c>\u001b[0m in \u001b[0;36m<module>\u001b[1;34m\u001b[0m\n\u001b[1;32m----> 1\u001b[1;33m \u001b[1;32mimport\u001b[0m \u001b[0mMMTK\u001b[0m\u001b[1;33m.\u001b[0m\u001b[0mProteins\u001b[0m\u001b[1;33m\u001b[0m\u001b[1;33m\u001b[0m\u001b[0m\n\u001b[0m",
      "\u001b[1;31mModuleNotFoundError\u001b[0m: No module named 'MMTK'"
     ]
    }
   ],
   "source": [
    "import MMTK.Proteins"
   ]
  },
  {
   "cell_type": "code",
   "execution_count": 2,
   "metadata": {},
   "outputs": [
    {
     "data": {
      "text/plain": [
       "'1.19.2'"
      ]
     },
     "execution_count": 2,
     "metadata": {},
     "output_type": "execute_result"
    }
   ],
   "source": [
    "import numpy\n",
    "numpy.version.version"
   ]
  },
  {
   "cell_type": "code",
   "execution_count": null,
   "metadata": {},
   "outputs": [],
   "source": [
    "!pip uninstall MDAnalysis"
   ]
  },
  {
   "cell_type": "code",
   "execution_count": 16,
   "metadata": {},
   "outputs": [
    {
     "name": "stdout",
     "output_type": "stream",
     "text": [
      "^C\n"
     ]
    }
   ],
   "source": [
    "!pip uninstall MDAnalysisTests"
   ]
  },
  {
   "cell_type": "code",
   "execution_count": 7,
   "metadata": {},
   "outputs": [
    {
     "name": "stdout",
     "output_type": "stream",
     "text": [
      "Requirement already satisfied: biopython in c:\\users\\shashank\\anaconda3\\lib\\site-packages (1.78)\n",
      "Requirement already satisfied: numpy in c:\\users\\shashank\\anaconda3\\lib\\site-packages (from biopython) (1.19.2)\n"
     ]
    }
   ],
   "source": [
    "!pip install biopython"
   ]
  },
  {
   "cell_type": "code",
   "execution_count": 10,
   "metadata": {},
   "outputs": [],
   "source": [
    "from Bio.PDB.DSSP import DSSP\n",
    "from Bio.PDB.PDBParser import PDBParser"
   ]
  },
  {
   "cell_type": "code",
   "execution_count": 39,
   "metadata": {},
   "outputs": [],
   "source": [
    "path_pdb = (\"C:/Users/Shashank/Downloads/GPCRs/homology_models/ClassA_gp141_human/ClassA_gp141_human_Active_6LFO_2021-06-10_GPCRdb.pdb\")\n",
    "p = PDBParser()\n",
    "# structure = p.get_structure(\"1MOT\", \"/local-pdb/1mot.pdb\")\n",
    "structure = p.get_structure(\"7cx2\", path_pdb)\n",
    "model = structure[0]\n",
    "# dssp = DSSP(model, \"C:/Users/Shashank/Downloads/GPCRs/homology_models/ClassA_gp141_human/ClassA_gp141_human_Active_6LFO_2021-06-10_GPCRdb.pdb\", dssp='mkdssp')\n"
   ]
  },
  {
   "cell_type": "code",
   "execution_count": 43,
   "metadata": {},
   "outputs": [
    {
     "ename": "FileNotFoundError",
     "evalue": "[WinError 2] The system cannot find the file specified",
     "output_type": "error",
     "traceback": [
      "\u001b[1;31m---------------------------------------------------------------------------\u001b[0m",
      "\u001b[1;31mFileNotFoundError\u001b[0m                         Traceback (most recent call last)",
      "\u001b[1;32m~\\anaconda3\\lib\\site-packages\\Bio\\PDB\\DSSP.py\u001b[0m in \u001b[0;36mdssp_dict_from_pdb_file\u001b[1;34m(in_file, DSSP)\u001b[0m\n\u001b[0;32m    230\u001b[0m     \u001b[1;32mtry\u001b[0m\u001b[1;33m:\u001b[0m\u001b[1;33m\u001b[0m\u001b[1;33m\u001b[0m\u001b[0m\n\u001b[1;32m--> 231\u001b[1;33m         p = subprocess.Popen(\n\u001b[0m\u001b[0;32m    232\u001b[0m             \u001b[1;33m[\u001b[0m\u001b[0mDSSP\u001b[0m\u001b[1;33m,\u001b[0m \u001b[0min_file\u001b[0m\u001b[1;33m]\u001b[0m\u001b[1;33m,\u001b[0m\u001b[1;33m\u001b[0m\u001b[1;33m\u001b[0m\u001b[0m\n",
      "\u001b[1;32m~\\anaconda3\\lib\\subprocess.py\u001b[0m in \u001b[0;36m__init__\u001b[1;34m(self, args, bufsize, executable, stdin, stdout, stderr, preexec_fn, close_fds, shell, cwd, env, universal_newlines, startupinfo, creationflags, restore_signals, start_new_session, pass_fds, encoding, errors, text)\u001b[0m\n\u001b[0;32m    853\u001b[0m \u001b[1;33m\u001b[0m\u001b[0m\n\u001b[1;32m--> 854\u001b[1;33m             self._execute_child(args, executable, preexec_fn, close_fds,\n\u001b[0m\u001b[0;32m    855\u001b[0m                                 \u001b[0mpass_fds\u001b[0m\u001b[1;33m,\u001b[0m \u001b[0mcwd\u001b[0m\u001b[1;33m,\u001b[0m \u001b[0menv\u001b[0m\u001b[1;33m,\u001b[0m\u001b[1;33m\u001b[0m\u001b[1;33m\u001b[0m\u001b[0m\n",
      "\u001b[1;32m~\\anaconda3\\lib\\subprocess.py\u001b[0m in \u001b[0;36m_execute_child\u001b[1;34m(self, args, executable, preexec_fn, close_fds, pass_fds, cwd, env, startupinfo, creationflags, shell, p2cread, p2cwrite, c2pread, c2pwrite, errread, errwrite, unused_restore_signals, unused_start_new_session)\u001b[0m\n\u001b[0;32m   1306\u001b[0m             \u001b[1;32mtry\u001b[0m\u001b[1;33m:\u001b[0m\u001b[1;33m\u001b[0m\u001b[1;33m\u001b[0m\u001b[0m\n\u001b[1;32m-> 1307\u001b[1;33m                 hp, ht, pid, tid = _winapi.CreateProcess(executable, args,\n\u001b[0m\u001b[0;32m   1308\u001b[0m                                          \u001b[1;31m# no special security\u001b[0m\u001b[1;33m\u001b[0m\u001b[1;33m\u001b[0m\u001b[1;33m\u001b[0m\u001b[0m\n",
      "\u001b[1;31mFileNotFoundError\u001b[0m: [WinError 2] The system cannot find the file specified",
      "\nDuring handling of the above exception, another exception occurred:\n",
      "\u001b[1;31mFileNotFoundError\u001b[0m                         Traceback (most recent call last)",
      "\u001b[1;32m<ipython-input-43-2ad66f401bb5>\u001b[0m in \u001b[0;36m<module>\u001b[1;34m\u001b[0m\n\u001b[0;32m      1\u001b[0m \u001b[1;31m# dir(structure[0])\u001b[0m\u001b[1;33m\u001b[0m\u001b[1;33m\u001b[0m\u001b[1;33m\u001b[0m\u001b[0m\n\u001b[1;32m----> 2\u001b[1;33m \u001b[0mdssp\u001b[0m \u001b[1;33m=\u001b[0m \u001b[0mDSSP\u001b[0m\u001b[1;33m(\u001b[0m\u001b[0mmodel\u001b[0m\u001b[1;33m,\u001b[0m \u001b[0mpath_pdb\u001b[0m\u001b[1;33m,\u001b[0m \u001b[0mdssp\u001b[0m\u001b[1;33m=\u001b[0m\u001b[1;34m'mkdssp'\u001b[0m\u001b[1;33m)\u001b[0m\u001b[1;33m\u001b[0m\u001b[1;33m\u001b[0m\u001b[0m\n\u001b[0m",
      "\u001b[1;32m~\\anaconda3\\lib\\site-packages\\Bio\\PDB\\DSSP.py\u001b[0m in \u001b[0;36m__init__\u001b[1;34m(self, model, in_file, dssp, acc_array, file_type)\u001b[0m\n\u001b[0;32m    435\u001b[0m                 \u001b[1;32melse\u001b[0m\u001b[1;33m:\u001b[0m\u001b[1;33m\u001b[0m\u001b[1;33m\u001b[0m\u001b[0m\n\u001b[0;32m    436\u001b[0m                     \u001b[1;32mraise\u001b[0m\u001b[1;33m\u001b[0m\u001b[1;33m\u001b[0m\u001b[0m\n\u001b[1;32m--> 437\u001b[1;33m             \u001b[0mdssp_dict\u001b[0m\u001b[1;33m,\u001b[0m \u001b[0mdssp_keys\u001b[0m \u001b[1;33m=\u001b[0m \u001b[0mdssp_dict_from_pdb_file\u001b[0m\u001b[1;33m(\u001b[0m\u001b[0min_file\u001b[0m\u001b[1;33m,\u001b[0m \u001b[0mdssp\u001b[0m\u001b[1;33m)\u001b[0m\u001b[1;33m\u001b[0m\u001b[1;33m\u001b[0m\u001b[0m\n\u001b[0m\u001b[0;32m    438\u001b[0m         \u001b[1;31m# If the input file is a DSSP file just parse it directly:\u001b[0m\u001b[1;33m\u001b[0m\u001b[1;33m\u001b[0m\u001b[1;33m\u001b[0m\u001b[0m\n\u001b[0;32m    439\u001b[0m         \u001b[1;32melif\u001b[0m \u001b[0mfile_type\u001b[0m \u001b[1;33m==\u001b[0m \u001b[1;34m\"DSSP\"\u001b[0m\u001b[1;33m:\u001b[0m\u001b[1;33m\u001b[0m\u001b[1;33m\u001b[0m\u001b[0m\n",
      "\u001b[1;32m~\\anaconda3\\lib\\site-packages\\Bio\\PDB\\DSSP.py\u001b[0m in \u001b[0;36mdssp_dict_from_pdb_file\u001b[1;34m(in_file, DSSP)\u001b[0m\n\u001b[0;32m    238\u001b[0m         \u001b[1;32mif\u001b[0m \u001b[0mDSSP\u001b[0m \u001b[1;33m==\u001b[0m \u001b[1;34m\"mkdssp\"\u001b[0m\u001b[1;33m:\u001b[0m\u001b[1;33m\u001b[0m\u001b[1;33m\u001b[0m\u001b[0m\n\u001b[0;32m    239\u001b[0m             \u001b[1;32mraise\u001b[0m\u001b[1;33m\u001b[0m\u001b[1;33m\u001b[0m\u001b[0m\n\u001b[1;32m--> 240\u001b[1;33m         p = subprocess.Popen(\n\u001b[0m\u001b[0;32m    241\u001b[0m             \u001b[1;33m[\u001b[0m\u001b[1;34m\"mkdssp\"\u001b[0m\u001b[1;33m,\u001b[0m \u001b[0min_file\u001b[0m\u001b[1;33m]\u001b[0m\u001b[1;33m,\u001b[0m\u001b[1;33m\u001b[0m\u001b[1;33m\u001b[0m\u001b[0m\n\u001b[0;32m    242\u001b[0m             \u001b[0muniversal_newlines\u001b[0m\u001b[1;33m=\u001b[0m\u001b[1;32mTrue\u001b[0m\u001b[1;33m,\u001b[0m\u001b[1;33m\u001b[0m\u001b[1;33m\u001b[0m\u001b[0m\n",
      "\u001b[1;32m~\\anaconda3\\lib\\subprocess.py\u001b[0m in \u001b[0;36m__init__\u001b[1;34m(self, args, bufsize, executable, stdin, stdout, stderr, preexec_fn, close_fds, shell, cwd, env, universal_newlines, startupinfo, creationflags, restore_signals, start_new_session, pass_fds, encoding, errors, text)\u001b[0m\n\u001b[0;32m    852\u001b[0m                             encoding=encoding, errors=errors)\n\u001b[0;32m    853\u001b[0m \u001b[1;33m\u001b[0m\u001b[0m\n\u001b[1;32m--> 854\u001b[1;33m             self._execute_child(args, executable, preexec_fn, close_fds,\n\u001b[0m\u001b[0;32m    855\u001b[0m                                 \u001b[0mpass_fds\u001b[0m\u001b[1;33m,\u001b[0m \u001b[0mcwd\u001b[0m\u001b[1;33m,\u001b[0m \u001b[0menv\u001b[0m\u001b[1;33m,\u001b[0m\u001b[1;33m\u001b[0m\u001b[1;33m\u001b[0m\u001b[0m\n\u001b[0;32m    856\u001b[0m                                 \u001b[0mstartupinfo\u001b[0m\u001b[1;33m,\u001b[0m \u001b[0mcreationflags\u001b[0m\u001b[1;33m,\u001b[0m \u001b[0mshell\u001b[0m\u001b[1;33m,\u001b[0m\u001b[1;33m\u001b[0m\u001b[1;33m\u001b[0m\u001b[0m\n",
      "\u001b[1;32m~\\anaconda3\\lib\\subprocess.py\u001b[0m in \u001b[0;36m_execute_child\u001b[1;34m(self, args, executable, preexec_fn, close_fds, pass_fds, cwd, env, startupinfo, creationflags, shell, p2cread, p2cwrite, c2pread, c2pwrite, errread, errwrite, unused_restore_signals, unused_start_new_session)\u001b[0m\n\u001b[0;32m   1305\u001b[0m             \u001b[1;31m# Start the process\u001b[0m\u001b[1;33m\u001b[0m\u001b[1;33m\u001b[0m\u001b[1;33m\u001b[0m\u001b[0m\n\u001b[0;32m   1306\u001b[0m             \u001b[1;32mtry\u001b[0m\u001b[1;33m:\u001b[0m\u001b[1;33m\u001b[0m\u001b[1;33m\u001b[0m\u001b[0m\n\u001b[1;32m-> 1307\u001b[1;33m                 hp, ht, pid, tid = _winapi.CreateProcess(executable, args,\n\u001b[0m\u001b[0;32m   1308\u001b[0m                                          \u001b[1;31m# no special security\u001b[0m\u001b[1;33m\u001b[0m\u001b[1;33m\u001b[0m\u001b[1;33m\u001b[0m\u001b[0m\n\u001b[0;32m   1309\u001b[0m                                          \u001b[1;32mNone\u001b[0m\u001b[1;33m,\u001b[0m \u001b[1;32mNone\u001b[0m\u001b[1;33m,\u001b[0m\u001b[1;33m\u001b[0m\u001b[1;33m\u001b[0m\u001b[0m\n",
      "\u001b[1;31mFileNotFoundError\u001b[0m: [WinError 2] The system cannot find the file specified"
     ]
    }
   ],
   "source": [
    "# dir(structure[0])\n",
    "dssp = DSSP(model, path_pdb, dssp='mkdssp')"
   ]
  },
  {
   "cell_type": "code",
   "execution_count": 44,
   "metadata": {},
   "outputs": [
    {
     "ename": "SyntaxError",
     "evalue": "invalid syntax (<ipython-input-44-6d288e73c049>, line 29)",
     "output_type": "error",
     "traceback": [
      "\u001b[1;36m  File \u001b[1;32m\"<ipython-input-44-6d288e73c049>\"\u001b[1;36m, line \u001b[1;32m29\u001b[0m\n\u001b[1;33m    print \"Job submitted successfully. Id is: '{}'\".format(job_id)\u001b[0m\n\u001b[1;37m          ^\u001b[0m\n\u001b[1;31mSyntaxError\u001b[0m\u001b[1;31m:\u001b[0m invalid syntax\n"
     ]
    }
   ],
   "source": [
    "\"\"\"\n",
    "This example client takes a PDB file, sends it to the REST service, which\n",
    "creates HSSP data. The HSSP data is then output to the console.\n",
    "\n",
    "Example:\n",
    "\n",
    "    python pdb_to_hssp.py 1crn.pdb http://www.cmbi.umcn.nl/xssp/\n",
    "\"\"\"\n",
    "\n",
    "import argparse\n",
    "import json\n",
    "import requests\n",
    "import time\n",
    "\n",
    "\n",
    "def pdb_to_hssp(pdb_file_path, rest_url):\n",
    "    # Read the pdb file data into a variable\n",
    "    files = {'file_': open(pdb_file_path, 'rb')}\n",
    "\n",
    "    # Send a request to the server to create hssp data from the pdb file data.\n",
    "    # If an error occurs, an exception is raised and the program exits. If the\n",
    "    # request is successful, the id of the job running on the server is\n",
    "    # returned.\n",
    "    url_create = '{}api/create/pdb_file/hssp_hssp/'.format(rest_url)\n",
    "    r = requests.post(url_create, files=files)\n",
    "    r.raise_for_status()\n",
    "\n",
    "    job_id = json.loads(r.text)['id']\n",
    "    print \"Job submitted successfully. Id is: '{}'\".format(job_id)\n",
    "\n",
    "    # Loop until the job running on the server has finished, either successfully\n",
    "    # or due to an error.\n",
    "    ready = False\n",
    "    while not ready:\n",
    "        # Check the status of the running job. If an error occurs an exception\n",
    "        # is raised and the program exits. If the request is successful, the\n",
    "        # status is returned.\n",
    "        url_status = '{}api/status/pdb_file/hssp_hssp/{}/'.format(rest_url,\n",
    "                                                                  job_id)\n",
    "        r = requests.get(url_status)\n",
    "        r.raise_for_status()\n",
    "\n",
    "        status = json.loads(r.text)['status']\n",
    "        print \"Job status is: '{}'\".format(status)\n",
    "\n",
    "        # If the status equals SUCCESS, exit out of the loop by changing the\n",
    "        # condition ready. This causes the code to drop into the `else` block\n",
    "        # below.\n",
    "        #\n",
    "        # If the status equals either FAILURE or REVOKED, an exception is raised\n",
    "        # containing the error message. The program exits.\n",
    "        #\n",
    "        # Otherwise, wait for five seconds and start at the beginning of the\n",
    "        # loop again.\n",
    "        if status == 'SUCCESS':\n",
    "            ready = True\n",
    "        elif status in ['FAILURE', 'REVOKED']:\n",
    "            raise Exception(json.loads(r.text)['message'])\n",
    "        else:\n",
    "            time.sleep(5)\n",
    "    else:\n",
    "        # Requests the result of the job. If an error occurs an exception is\n",
    "        # raised and the program exits. If the request is successful, the result\n",
    "        # is returned.\n",
    "        url_result = '{}api/result/pdb_file/hssp_hssp/{}/'.format(rest_url,\n",
    "                                                                  job_id)\n",
    "        r = requests.get(url_result)\n",
    "        r.raise_for_status()\n",
    "        result = json.loads(r.text)['result']\n",
    "\n",
    "        # Return the result to the caller, which prints it to the screen.\n",
    "        return result\n",
    "\n",
    "\n",
    "if __name__ == \"__main__\":\n",
    "    parser = argparse.ArgumentParser(description='Create HSSP from a PDB file')\n",
    "    parser.add_argument('pdb_file_path')\n",
    "    parser.add_argument('rest_url')\n",
    "    args = parser.parse_args()\n",
    "\n",
    "    result = pdb_to_hssp(args.pdb_file_path, args.rest_url)\n",
    "    print result"
   ]
  },
  {
   "cell_type": "code",
   "execution_count": 64,
   "metadata": {},
   "outputs": [],
   "source": [
    "# pdb_file_path = \"C:/Users/Shashank/Downloads/GPCRs/homology_models/ClassA_gp141_human/ClassA_gp141_human_Active_6LFO_2021-06-10_GPCRdb.pdb\"\n",
    "pdb_file_path = \"C:/Users/Shashank/Downloads/GPCRs/homology_models/ClassA_gp141_human/ClassA_gp141_human_Active_6LFO_2021-06-10_GPCRdb.pdb\"\n",
    "# rest_url      = \"https://swift.cmbi.umcn.nl/servers/html/chiang.html\"\n",
    "rest_url      = \"https://swift.cmbi.umcn.nl/servers/html/chiang.html\"\n"
   ]
  },
  {
   "cell_type": "code",
   "execution_count": 66,
   "metadata": {},
   "outputs": [
    {
     "name": "stderr",
     "output_type": "stream",
     "text": [
      "Traceback (most recent call last):\n",
      "  File \"C:/Users/Shashank/Desktop/dssp.py\", line 81, in <module>\n",
      "    result = pdb_to_hssp(args.pdb_file_path, args.rest_url)\n",
      "  File \"C:/Users/Shashank/Desktop/dssp.py\", line 26, in pdb_to_hssp\n",
      "    r.raise_for_status()\n",
      "  File \"C:\\Users\\Shashank\\anaconda3\\lib\\site-packages\\requests\\models.py\", line 941, in raise_for_status\n",
      "    raise HTTPError(http_error_msg, response=self)\n",
      "requests.exceptions.HTTPError: 404 Client Error: Not Found for url: https://swift.cmbi.umcn.nl/servers/html/chiang.htmlapi/create/pdb_file/hssp_hssp/\n"
     ]
    }
   ],
   "source": [
    "!python \"C:/Users/Shashank/Desktop/dssp.py\" \"C:/Users/Shashank/Downloads/GPCRs/homology_models/ClassA_gp141_human/ClassA_gp141_human_Active_6LFO_2021-06-10_GPCRdb.pdb\" \"https://swift.cmbi.umcn.nl/servers/html/chiang.html\""
   ]
  },
  {
   "cell_type": "code",
   "execution_count": null,
   "metadata": {},
   "outputs": [],
   "source": []
  },
  {
   "cell_type": "code",
   "execution_count": null,
   "metadata": {},
   "outputs": [],
   "source": []
  },
  {
   "cell_type": "code",
   "execution_count": null,
   "metadata": {},
   "outputs": [],
   "source": []
  },
  {
   "cell_type": "code",
   "execution_count": null,
   "metadata": {},
   "outputs": [],
   "source": []
  },
  {
   "cell_type": "code",
   "execution_count": null,
   "metadata": {},
   "outputs": [],
   "source": []
  },
  {
   "cell_type": "code",
   "execution_count": null,
   "metadata": {},
   "outputs": [],
   "source": []
  },
  {
   "cell_type": "code",
   "execution_count": null,
   "metadata": {},
   "outputs": [],
   "source": []
  },
  {
   "cell_type": "code",
   "execution_count": null,
   "metadata": {},
   "outputs": [],
   "source": []
  },
  {
   "cell_type": "code",
   "execution_count": null,
   "metadata": {},
   "outputs": [],
   "source": []
  },
  {
   "cell_type": "code",
   "execution_count": null,
   "metadata": {},
   "outputs": [],
   "source": []
  },
  {
   "cell_type": "code",
   "execution_count": null,
   "metadata": {},
   "outputs": [],
   "source": []
  },
  {
   "cell_type": "code",
   "execution_count": null,
   "metadata": {},
   "outputs": [],
   "source": []
  }
 ],
 "metadata": {
  "kernelspec": {
   "display_name": "Python 3",
   "language": "python",
   "name": "python3"
  },
  "language_info": {
   "codemirror_mode": {
    "name": "ipython",
    "version": 3
   },
   "file_extension": ".py",
   "mimetype": "text/x-python",
   "name": "python",
   "nbconvert_exporter": "python",
   "pygments_lexer": "ipython3",
   "version": "3.8.5"
  }
 },
 "nbformat": 4,
 "nbformat_minor": 4
}
