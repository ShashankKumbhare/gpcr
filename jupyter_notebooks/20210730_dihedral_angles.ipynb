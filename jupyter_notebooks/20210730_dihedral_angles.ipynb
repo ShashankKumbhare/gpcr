{
 "cells": [
  {
   "cell_type": "code",
   "execution_count": 1,
   "metadata": {},
   "outputs": [
    {
     "ename": "ModuleNotFoundError",
     "evalue": "No module named 'MMTK'",
     "output_type": "error",
     "traceback": [
      "\u001b[1;31m---------------------------------------------------------------------------\u001b[0m",
      "\u001b[1;31mModuleNotFoundError\u001b[0m                       Traceback (most recent call last)",
      "\u001b[1;32m<ipython-input-1-a0985c806c3c>\u001b[0m in \u001b[0;36m<module>\u001b[1;34m\u001b[0m\n\u001b[1;32m----> 1\u001b[1;33m \u001b[1;32mimport\u001b[0m \u001b[0mMMTK\u001b[0m\u001b[1;33m.\u001b[0m\u001b[0mProteins\u001b[0m\u001b[1;33m\u001b[0m\u001b[1;33m\u001b[0m\u001b[0m\n\u001b[0m",
      "\u001b[1;31mModuleNotFoundError\u001b[0m: No module named 'MMTK'"
     ]
    }
   ],
   "source": [
    "import MMTK.Proteins"
   ]
  },
  {
   "cell_type": "code",
   "execution_count": 2,
   "metadata": {},
   "outputs": [
    {
     "data": {
      "text/plain": [
       "'1.19.2'"
      ]
     },
     "execution_count": 2,
     "metadata": {},
     "output_type": "execute_result"
    }
   ],
   "source": [
    "import numpy\n",
    "numpy.version.version"
   ]
  },
  {
   "cell_type": "code",
   "execution_count": null,
   "metadata": {},
   "outputs": [],
   "source": [
    "!pip uninstall MDAnalysis"
   ]
  },
  {
   "cell_type": "code",
   "execution_count": 16,
   "metadata": {},
   "outputs": [
    {
     "name": "stdout",
     "output_type": "stream",
     "text": [
      "^C\n"
     ]
    }
   ],
   "source": [
    "!pip uninstall MDAnalysisTests"
   ]
  },
  {
   "cell_type": "code",
   "execution_count": 7,
   "metadata": {},
   "outputs": [
    {
     "name": "stdout",
     "output_type": "stream",
     "text": [
      "Requirement already satisfied: biopython in c:\\users\\shashank\\anaconda3\\lib\\site-packages (1.78)\n",
      "Requirement already satisfied: numpy in c:\\users\\shashank\\anaconda3\\lib\\site-packages (from biopython) (1.19.2)\n"
     ]
    }
   ],
   "source": [
    "!pip install biopython"
   ]
  },
  {
   "cell_type": "code",
   "execution_count": 10,
   "metadata": {},
   "outputs": [],
   "source": [
    "from Bio.PDB.DSSP import DSSP\n",
    "from Bio.PDB.PDBParser import PDBParser"
   ]
  },
  {
   "cell_type": "code",
   "execution_count": 39,
   "metadata": {},
   "outputs": [],
   "source": [
    "path_pdb = (\"C:/Users/Shashank/Downloads/GPCRs/homology_models/ClassA_gp141_human/ClassA_gp141_human_Active_6LFO_2021-06-10_GPCRdb.pdb\")\n",
    "p = PDBParser()\n",
    "# structure = p.get_structure(\"1MOT\", \"/local-pdb/1mot.pdb\")\n",
    "structure = p.get_structure(\"7cx2\", path_pdb)\n",
    "model = structure[0]\n",
    "# dssp = DSSP(model, \"C:/Users/Shashank/Downloads/GPCRs/homology_models/ClassA_gp141_human/ClassA_gp141_human_Active_6LFO_2021-06-10_GPCRdb.pdb\", dssp='mkdssp')\n"
   ]
  },
  {
   "cell_type": "code",
   "execution_count": 78,
   "metadata": {},
   "outputs": [
    {
     "ename": "FileNotFoundError",
     "evalue": "[WinError 2] The system cannot find the file specified",
     "output_type": "error",
     "traceback": [
      "\u001b[1;31m---------------------------------------------------------------------------\u001b[0m",
      "\u001b[1;31mFileNotFoundError\u001b[0m                         Traceback (most recent call last)",
      "\u001b[1;32m~\\anaconda3\\lib\\site-packages\\Bio\\PDB\\DSSP.py\u001b[0m in \u001b[0;36mdssp_dict_from_pdb_file\u001b[1;34m(in_file, DSSP)\u001b[0m\n\u001b[0;32m    230\u001b[0m     \u001b[1;32mtry\u001b[0m\u001b[1;33m:\u001b[0m\u001b[1;33m\u001b[0m\u001b[1;33m\u001b[0m\u001b[0m\n\u001b[1;32m--> 231\u001b[1;33m         p = subprocess.Popen(\n\u001b[0m\u001b[0;32m    232\u001b[0m             \u001b[1;33m[\u001b[0m\u001b[0mDSSP\u001b[0m\u001b[1;33m,\u001b[0m \u001b[0min_file\u001b[0m\u001b[1;33m]\u001b[0m\u001b[1;33m,\u001b[0m\u001b[1;33m\u001b[0m\u001b[1;33m\u001b[0m\u001b[0m\n",
      "\u001b[1;32m~\\anaconda3\\lib\\subprocess.py\u001b[0m in \u001b[0;36m__init__\u001b[1;34m(self, args, bufsize, executable, stdin, stdout, stderr, preexec_fn, close_fds, shell, cwd, env, universal_newlines, startupinfo, creationflags, restore_signals, start_new_session, pass_fds, encoding, errors, text)\u001b[0m\n\u001b[0;32m    853\u001b[0m \u001b[1;33m\u001b[0m\u001b[0m\n\u001b[1;32m--> 854\u001b[1;33m             self._execute_child(args, executable, preexec_fn, close_fds,\n\u001b[0m\u001b[0;32m    855\u001b[0m                                 \u001b[0mpass_fds\u001b[0m\u001b[1;33m,\u001b[0m \u001b[0mcwd\u001b[0m\u001b[1;33m,\u001b[0m \u001b[0menv\u001b[0m\u001b[1;33m,\u001b[0m\u001b[1;33m\u001b[0m\u001b[1;33m\u001b[0m\u001b[0m\n",
      "\u001b[1;32m~\\anaconda3\\lib\\subprocess.py\u001b[0m in \u001b[0;36m_execute_child\u001b[1;34m(self, args, executable, preexec_fn, close_fds, pass_fds, cwd, env, startupinfo, creationflags, shell, p2cread, p2cwrite, c2pread, c2pwrite, errread, errwrite, unused_restore_signals, unused_start_new_session)\u001b[0m\n\u001b[0;32m   1306\u001b[0m             \u001b[1;32mtry\u001b[0m\u001b[1;33m:\u001b[0m\u001b[1;33m\u001b[0m\u001b[1;33m\u001b[0m\u001b[0m\n\u001b[1;32m-> 1307\u001b[1;33m                 hp, ht, pid, tid = _winapi.CreateProcess(executable, args,\n\u001b[0m\u001b[0;32m   1308\u001b[0m                                          \u001b[1;31m# no special security\u001b[0m\u001b[1;33m\u001b[0m\u001b[1;33m\u001b[0m\u001b[1;33m\u001b[0m\u001b[0m\n",
      "\u001b[1;31mFileNotFoundError\u001b[0m: [WinError 2] The system cannot find the file specified",
      "\nDuring handling of the above exception, another exception occurred:\n",
      "\u001b[1;31mFileNotFoundError\u001b[0m                         Traceback (most recent call last)",
      "\u001b[1;32mC:/Users/Shashank/Desktop/dssp.py\u001b[0m in \u001b[0;36m<module>\u001b[1;34m\u001b[0m\n\u001b[0;32m      1\u001b[0m \u001b[1;31m# dir(structure[0])\u001b[0m\u001b[1;33m\u001b[0m\u001b[1;33m\u001b[0m\u001b[1;33m\u001b[0m\u001b[0m\n\u001b[1;32m----> 2\u001b[1;33m \u001b[0mdssp\u001b[0m \u001b[1;33m=\u001b[0m \u001b[0mDSSP\u001b[0m\u001b[1;33m(\u001b[0m\u001b[0mmodel\u001b[0m\u001b[1;33m,\u001b[0m \u001b[0mpath_pdb\u001b[0m\u001b[1;33m,\u001b[0m \u001b[0mdssp\u001b[0m\u001b[1;33m=\u001b[0m\u001b[1;34m'mkdssp'\u001b[0m\u001b[1;33m)\u001b[0m\u001b[1;33m\u001b[0m\u001b[1;33m\u001b[0m\u001b[0m\n\u001b[0m",
      "\u001b[1;32m~\\anaconda3\\lib\\site-packages\\Bio\\PDB\\DSSP.py\u001b[0m in \u001b[0;36m__init__\u001b[1;34m(self, model, in_file, dssp, acc_array, file_type)\u001b[0m\n\u001b[0;32m    435\u001b[0m                 \u001b[1;32melse\u001b[0m\u001b[1;33m:\u001b[0m\u001b[1;33m\u001b[0m\u001b[1;33m\u001b[0m\u001b[0m\n\u001b[0;32m    436\u001b[0m                     \u001b[1;32mraise\u001b[0m\u001b[1;33m\u001b[0m\u001b[1;33m\u001b[0m\u001b[0m\n\u001b[1;32m--> 437\u001b[1;33m             \u001b[0mdssp_dict\u001b[0m\u001b[1;33m,\u001b[0m \u001b[0mdssp_keys\u001b[0m \u001b[1;33m=\u001b[0m \u001b[0mdssp_dict_from_pdb_file\u001b[0m\u001b[1;33m(\u001b[0m\u001b[0min_file\u001b[0m\u001b[1;33m,\u001b[0m \u001b[0mdssp\u001b[0m\u001b[1;33m)\u001b[0m\u001b[1;33m\u001b[0m\u001b[1;33m\u001b[0m\u001b[0m\n\u001b[0m\u001b[0;32m    438\u001b[0m         \u001b[1;31m# If the input file is a DSSP file just parse it directly:\u001b[0m\u001b[1;33m\u001b[0m\u001b[1;33m\u001b[0m\u001b[1;33m\u001b[0m\u001b[0m\n\u001b[0;32m    439\u001b[0m         \u001b[1;32melif\u001b[0m \u001b[0mfile_type\u001b[0m \u001b[1;33m==\u001b[0m \u001b[1;34m\"DSSP\"\u001b[0m\u001b[1;33m:\u001b[0m\u001b[1;33m\u001b[0m\u001b[1;33m\u001b[0m\u001b[0m\n",
      "\u001b[1;32m~\\anaconda3\\lib\\site-packages\\Bio\\PDB\\DSSP.py\u001b[0m in \u001b[0;36mdssp_dict_from_pdb_file\u001b[1;34m(in_file, DSSP)\u001b[0m\n\u001b[0;32m    238\u001b[0m         \u001b[1;32mif\u001b[0m \u001b[0mDSSP\u001b[0m \u001b[1;33m==\u001b[0m \u001b[1;34m\"mkdssp\"\u001b[0m\u001b[1;33m:\u001b[0m\u001b[1;33m\u001b[0m\u001b[1;33m\u001b[0m\u001b[0m\n\u001b[0;32m    239\u001b[0m             \u001b[1;32mraise\u001b[0m\u001b[1;33m\u001b[0m\u001b[1;33m\u001b[0m\u001b[0m\n\u001b[1;32m--> 240\u001b[1;33m         p = subprocess.Popen(\n\u001b[0m\u001b[0;32m    241\u001b[0m             \u001b[1;33m[\u001b[0m\u001b[1;34m\"mkdssp\"\u001b[0m\u001b[1;33m,\u001b[0m \u001b[0min_file\u001b[0m\u001b[1;33m]\u001b[0m\u001b[1;33m,\u001b[0m\u001b[1;33m\u001b[0m\u001b[1;33m\u001b[0m\u001b[0m\n\u001b[0;32m    242\u001b[0m             \u001b[0muniversal_newlines\u001b[0m\u001b[1;33m=\u001b[0m\u001b[1;32mTrue\u001b[0m\u001b[1;33m,\u001b[0m\u001b[1;33m\u001b[0m\u001b[1;33m\u001b[0m\u001b[0m\n",
      "\u001b[1;32m~\\anaconda3\\lib\\subprocess.py\u001b[0m in \u001b[0;36m__init__\u001b[1;34m(self, args, bufsize, executable, stdin, stdout, stderr, preexec_fn, close_fds, shell, cwd, env, universal_newlines, startupinfo, creationflags, restore_signals, start_new_session, pass_fds, encoding, errors, text)\u001b[0m\n\u001b[0;32m    852\u001b[0m                             encoding=encoding, errors=errors)\n\u001b[0;32m    853\u001b[0m \u001b[1;33m\u001b[0m\u001b[0m\n\u001b[1;32m--> 854\u001b[1;33m             self._execute_child(args, executable, preexec_fn, close_fds,\n\u001b[0m\u001b[0;32m    855\u001b[0m                                 \u001b[0mpass_fds\u001b[0m\u001b[1;33m,\u001b[0m \u001b[0mcwd\u001b[0m\u001b[1;33m,\u001b[0m \u001b[0menv\u001b[0m\u001b[1;33m,\u001b[0m\u001b[1;33m\u001b[0m\u001b[1;33m\u001b[0m\u001b[0m\n\u001b[0;32m    856\u001b[0m                                 \u001b[0mstartupinfo\u001b[0m\u001b[1;33m,\u001b[0m \u001b[0mcreationflags\u001b[0m\u001b[1;33m,\u001b[0m \u001b[0mshell\u001b[0m\u001b[1;33m,\u001b[0m\u001b[1;33m\u001b[0m\u001b[1;33m\u001b[0m\u001b[0m\n",
      "\u001b[1;32m~\\anaconda3\\lib\\subprocess.py\u001b[0m in \u001b[0;36m_execute_child\u001b[1;34m(self, args, executable, preexec_fn, close_fds, pass_fds, cwd, env, startupinfo, creationflags, shell, p2cread, p2cwrite, c2pread, c2pwrite, errread, errwrite, unused_restore_signals, unused_start_new_session)\u001b[0m\n\u001b[0;32m   1305\u001b[0m             \u001b[1;31m# Start the process\u001b[0m\u001b[1;33m\u001b[0m\u001b[1;33m\u001b[0m\u001b[1;33m\u001b[0m\u001b[0m\n\u001b[0;32m   1306\u001b[0m             \u001b[1;32mtry\u001b[0m\u001b[1;33m:\u001b[0m\u001b[1;33m\u001b[0m\u001b[1;33m\u001b[0m\u001b[0m\n\u001b[1;32m-> 1307\u001b[1;33m                 hp, ht, pid, tid = _winapi.CreateProcess(executable, args,\n\u001b[0m\u001b[0;32m   1308\u001b[0m                                          \u001b[1;31m# no special security\u001b[0m\u001b[1;33m\u001b[0m\u001b[1;33m\u001b[0m\u001b[1;33m\u001b[0m\u001b[0m\n\u001b[0;32m   1309\u001b[0m                                          \u001b[1;32mNone\u001b[0m\u001b[1;33m,\u001b[0m \u001b[1;32mNone\u001b[0m\u001b[1;33m,\u001b[0m\u001b[1;33m\u001b[0m\u001b[1;33m\u001b[0m\u001b[0m\n",
      "\u001b[1;31mFileNotFoundError\u001b[0m: [WinError 2] The system cannot find the file specified"
     ]
    }
   ],
   "source": [
    "# dir(structure[0])\n",
    "dssp = DSSP(model, path_pdb, dssp='mkdssp')"
   ]
  },
  {
   "cell_type": "code",
   "execution_count": 64,
   "metadata": {},
   "outputs": [],
   "source": [
    "# pdb_file_path = \"C:/Users/Shashank/Downloads/GPCRs/homology_models/ClassA_gp141_human/ClassA_gp141_human_Active_6LFO_2021-06-10_GPCRdb.pdb\"\n",
    "pdb_file_path = \"C:/Users/Shashank/Downloads/GPCRs/homology_models/ClassA_gp141_human/ClassA_gp141_human_Active_6LFO_2021-06-10_GPCRdb.pdb\"\n",
    "# rest_url      = \"https://swift.cmbi.umcn.nl/servers/html/chiang.html\"\n",
    "rest_url      = \"https://swift.cmbi.umcn.nl/servers/html/chiang.html\"\n"
   ]
  },
  {
   "cell_type": "code",
   "execution_count": 66,
   "metadata": {},
   "outputs": [
    {
     "name": "stderr",
     "output_type": "stream",
     "text": [
      "Traceback (most recent call last):\n",
      "  File \"C:/Users/Shashank/Desktop/dssp.py\", line 81, in <module>\n",
      "    result = pdb_to_hssp(args.pdb_file_path, args.rest_url)\n",
      "  File \"C:/Users/Shashank/Desktop/dssp.py\", line 26, in pdb_to_hssp\n",
      "    r.raise_for_status()\n",
      "  File \"C:\\Users\\Shashank\\anaconda3\\lib\\site-packages\\requests\\models.py\", line 941, in raise_for_status\n",
      "    raise HTTPError(http_error_msg, response=self)\n",
      "requests.exceptions.HTTPError: 404 Client Error: Not Found for url: https://swift.cmbi.umcn.nl/servers/html/chiang.htmlapi/create/pdb_file/hssp_hssp/\n"
     ]
    }
   ],
   "source": [
    "!python \"C:/Users/Shashank/Desktop/dssp.py\" \"C:/Users/Shashank/Downloads/GPCRs/homology_models/ClassA_gp141_human/ClassA_gp141_human_Active_6LFO_2021-06-10_GPCRdb.pdb\" \"https://swift.cmbi.umcn.nl/servers/html/chiang.html\""
   ]
  },
  {
   "cell_type": "code",
   "execution_count": 71,
   "metadata": {},
   "outputs": [
    {
     "name": "stderr",
     "output_type": "stream",
     "text": [
      "ERROR: Could not find a version that satisfies the requirement bio3d (from versions: none)\n",
      "ERROR: No matching distribution found for bio3d\n"
     ]
    }
   ],
   "source": [
    "!pip install bio3d"
   ]
  },
  {
   "cell_type": "code",
   "execution_count": null,
   "metadata": {},
   "outputs": [],
   "source": []
  },
  {
   "cell_type": "code",
   "execution_count": 73,
   "metadata": {},
   "outputs": [
    {
     "name": "stdout",
     "output_type": "stream",
     "text": [
      "ARG R 8 123.834 133.328\n"
     ]
    }
   ],
   "source": [
    "pdb_file_path = \"C:/Users/Shashank/Downloads/GPCRs/homology_models/ClassA_gp141_human/ClassA_gp141_human_Active_6LFO_2021-06-10_GPCRdb.pdb\"\n",
    "visited = {}\n",
    "for line in open(pdb_file_path):\n",
    "    list = line.split()\n",
    "    id = list[0]\n",
    "    if id == 'ATOM':\n",
    "        type = list[2]\n",
    "        if type == 'CA':\n",
    "            residue = list[3]\n",
    "            type_of_chain = list[4]\n",
    "            atom_count = int(list[5])\n",
    "            position = list[6:8]\n",
    "            if atom_count >= 0:\n",
    "                if type_of_chain not in visited:\n",
    "                    visited[type_of_chain] = 1\n",
    "                    print( residue,type_of_chain,atom_count,' '.join(position) )"
   ]
  },
  {
   "cell_type": "code",
   "execution_count": null,
   "metadata": {},
   "outputs": [],
   "source": []
  },
  {
   "cell_type": "code",
   "execution_count": 77,
   "metadata": {
    "scrolled": false
   },
   "outputs": [],
   "source": [
    "# with open(pdb_file_path) as pdbfile:\n",
    "#     for line in pdbfile:\n",
    "#         if line[:4] == 'ATOM' or line[:6] == \"HETATM\":\n",
    "#             print(line)\n",
    "#             # Split the line\n",
    "#             splitted_line = [line[:6], line[6:11], line[12:16], line[17:20], line[21], line[22:26], line[30:38], line[38:46], line[46:54]]\n",
    "#             print(splitted_line)\n",
    "#             # To format again the pdb file with the fields extracted\n",
    "#             print( \"%-6s%5s %4s %3s %s%4s    %8s%8s%8s\\n\"%tuple(splitted_line) )"
   ]
  },
  {
   "cell_type": "code",
   "execution_count": 83,
   "metadata": {},
   "outputs": [
    {
     "name": "stdout",
     "output_type": "stream",
     "text": [
      "200\n",
      "<!DOCTYPE HTML PUBLIC \"-//W3C//DTD HTML 3.2//EN\">\n",
      "<HTML>\n",
      "\n",
      "<!-- This file generated using Python HTMLgen module. -->\n",
      "<HEAD>\n",
      "  <META NAME=\"GENERATOR\" CONTENT=\"HTMLgen 2.0.6\">\n",
      "        <TITLE>Torsion angles</TITLE>\n",
      " </HEAD>\n",
      "<BODY BGCOLOR=\"white\">\n",
      "<IMG src=\"/servers/icons/access-server.gif\" alt=\"access-server.gif\" border=\"1\" align=\"left\">\n",
      "<BR>\n",
      "<H1>Torsion angles</H1>\n",
      "\n",
      "\n",
      "<P>\n",
      "\n",
      "<BR>\n",
      "<H3>Introduction</H3>\n",
      "\n",
      "The torsion angles in all amino acids in the PDB file will be tabulated. \n",
      "                 Angles will be in degrees. A torsion angle of 999 degrees indicates that\n",
      "                 this torsion angle does not exist (e.g. phi of the N-terminal residue),\n",
      "                 or that there is something wrong with at least one of the atoms involved.\n",
      "              \n",
      "<H3>Methods</H3>\n",
      "\n",
      "Torsion angles are calculated in degrees, using the IUPAC-IUB definitions\n",
      "                 of torsion angles.\n",
      "              \n",
      "\n",
      "<FORM METHOD=\"POST\" ACTION=\"/cgi/GenericCGI.py\" ENCTYPE=\"multipart/form-data\">\n",
      "<INPUT TYPE=\"hidden\" NAME=\"request\" VALUE=\"chiang\" >\n",
      "<TABLE border=0 cellpadding=4 cellspacing=1 width=\"100%\">\n",
      "<TR><TD Align=left >Either Choose a pdb-file,</TD>\n",
      "<TD Align=left ><INPUT TYPE=\"TEXT\" NAME=\"&PDB1\" SIZE=8 MAXLENGTH=4 >\n",
      "</TD>\n",
      "</TR>\n",
      "<TR><TD Align=left >Or Choose your own file</TD>\n",
      "<TD Align=left ><INPUT TYPE=\"file\" NAME=\"&FIL1\" >\n",
      "</TD>\n",
      "</TR>\n",
      "</TABLE><P>\n",
      "<INPUT TYPE=\"submit\" NAME=\"SubmitButton\" VALUE=\"Send\" >\n",
      "<INPUT TYPE=\"reset\" NAME=\"Reset\" VALUE=\"Clear Form\" >\n",
      "\n",
      "</FORM>\n",
      "\n",
      " \n",
      " \n",
      "    If you have detected any error, or have any question or suggestion,\n",
      "    please send an Email to Gert Vriend.<BR>\n",
      "    Roland Krause, Maarten L Hekkelman, Jens E Nielsen, \n",
      "    <a href=\"mailto: Vriend@CMBI.ru.nl\">Gert Vriend</a>.<P>\n",
      "    <HR>\n",
      "    Last modified Mon Jan 29 12:33:00 2018\n",
      "    \n",
      "\n",
      "</BODY> </HTML>\n",
      "\n"
     ]
    }
   ],
   "source": [
    "import requests\n",
    "\n",
    "url = \"https://swift.cmbi.umcn.nl/servers/html/chiang.html\"\n",
    "\n",
    "files = {\"file\": open(\"C:/Users/Shashank/Downloads/files/1be9.pdb\", \"rb\")}\n",
    "\n",
    "r = requests.post(url, files = files)\n",
    "print(r.status_code)\n",
    "print(r.text)"
   ]
  },
  {
   "cell_type": "code",
   "execution_count": null,
   "metadata": {},
   "outputs": [],
   "source": []
  },
  {
   "cell_type": "code",
   "execution_count": null,
   "metadata": {},
   "outputs": [],
   "source": []
  },
  {
   "cell_type": "code",
   "execution_count": null,
   "metadata": {},
   "outputs": [],
   "source": []
  },
  {
   "cell_type": "code",
   "execution_count": null,
   "metadata": {},
   "outputs": [],
   "source": []
  },
  {
   "cell_type": "code",
   "execution_count": null,
   "metadata": {},
   "outputs": [],
   "source": []
  },
  {
   "cell_type": "code",
   "execution_count": null,
   "metadata": {},
   "outputs": [],
   "source": []
  },
  {
   "cell_type": "code",
   "execution_count": null,
   "metadata": {},
   "outputs": [],
   "source": []
  }
 ],
 "metadata": {
  "kernelspec": {
   "display_name": "Python 3",
   "language": "python",
   "name": "python3"
  },
  "language_info": {
   "codemirror_mode": {
    "name": "ipython",
    "version": 3
   },
   "file_extension": ".py",
   "mimetype": "text/x-python",
   "name": "python",
   "nbconvert_exporter": "python",
   "pygments_lexer": "ipython3",
   "version": "3.8.5"
  }
 },
 "nbformat": 4,
 "nbformat_minor": 4
}
